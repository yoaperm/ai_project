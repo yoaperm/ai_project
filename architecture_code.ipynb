{
 "cells": [
  {
   "cell_type": "markdown",
   "metadata": {},
   "source": [
    "# 1. chromosome structure"
   ]
  },
  {
   "cell_type": "markdown",
   "metadata": {},
   "source": [
    "```mermaid\n",
    "graph TD\n",
    "    Chromosome --> Day1[Monday]\n",
    "    Chromosome --> Day2[Tuesday]\n",
    "    Chromosome --> Day3[Wednesday]\n",
    "    Chromosome --> Day4[Thursday]\n",
    "    Chromosome --> Day5[Friday]\n",
    "    Chromosome --> Day6[Saturday]\n",
    "    Chromosome --> Day7[Sunday]\n",
    "    Day1 -->|24 Genes| Activities1[Activities]\n",
    "    Day2 -->|24 Genes| Activities2[Activities]\n",
    "    Day3 -->|24 Genes| Activities3[Activities]\n",
    "    Day4 -->|24 Genes| Activities4[Activities]\n",
    "    Day5 -->|24 Genes| Activities5[Activities]\n",
    "    Day6 -->|24 Genes| Activities6[Activities]\n",
    "    Day7 -->|24 Genes| Activities7[Activities]\n",
    "\n",
    "```\n"
   ]
  },
  {
   "cell_type": "markdown",
   "metadata": {},
   "source": [
    "# 2. condition fix-schedule"
   ]
  },
  {
   "cell_type": "markdown",
   "metadata": {},
   "source": [
    "```mermaid\n",
    "flowchart TD\n",
    "    A[Start of Week] --> B[Monday to Friday]\n",
    "    B --> C{Is it Office Day?}\n",
    "    C -- Yes --> D[Tuesday or Thursday]\n",
    "    D --> E[Work at Office for 8 hours]\n",
    "    E --> F[Include Commute Time]\n",
    "    C -- No --> G[Monday, Wednesday, Friday]\n",
    "    G --> H[Work from Home for 8 hours]\n",
    "\n",
    "```"
   ]
  },
  {
   "cell_type": "markdown",
   "metadata": {},
   "source": [
    "```mermaid\n",
    "flowchart TD\n",
    "    A[Weekend] --> B{Is it Saturday?}\n",
    "    B -- Yes --> C[Attend Online Classes for 6 hours]\n",
    "    B -- No --> D{Is it Sunday?}\n",
    "    D -- Yes --> E[Commute to University]\n",
    "    E --> F[Attend University Classes for 6 hours]\n",
    "    F --> G[Commute Back Home]\n",
    "```\n"
   ]
  },
  {
   "cell_type": "markdown",
   "metadata": {},
   "source": [
    "# 3. penalty appplication"
   ]
  },
  {
   "cell_type": "markdown",
   "metadata": {},
   "source": [
    "```mermaid\n",
    "flowchart TD\n",
    "    Start --> A[Evaluate Chromosome]\n",
    "    A --> B[Check Work Hours]\n",
    "    B --> |\"Not Enough\"| C[Apply Heavy Penalty]\n",
    "    C --> D[Check Total Weekly Work Hours]\n",
    "    D --> |\"Zero Hours\"| E[Set score to negative infinity]\n",
    "    B --> |\"Enough\"| D\n",
    "    D --> F[Check Class Attendance]\n",
    "    F --> |\"Not Enough\"| G[Apply Penalty]\n",
    "    G --> H[Check Commuting on Sunday]\n",
    "    H --> |\"Missed\"| I[Apply Penalty]\n",
    "    F --> |\"Enough\"| H\n",
    "    H --> J[Check Sleep Hours]\n",
    "    J --> |\"Not Enough\"| K[Apply Penalty]\n",
    "    J --> |\"Enough\"| L[Check Meals]\n",
    "    K --> L\n",
    "    L --> |\"Missed Meals\"| M[Apply Penalty]\n",
    "    L --> |\"All Meals\"| N[Check Beneficial Activities]\n",
    "    M --> N\n",
    "    N --> |\"None\"| O[Apply Penalty]\n",
    "    N --> |\"Performed\"| P[Reward]\n",
    "    O --> Q[Check Personal Care]\n",
    "    P --> Q\n",
    "    Q --> |\"Skipped\"| R[Apply Penalty]\n",
    "    Q --> |\"Done\"| S[Finalize Score]\n",
    "    R --> S\n",
    "    S --> End[Return Fitness Score]\n",
    "\n",
    "```\n"
   ]
  },
  {
   "cell_type": "markdown",
   "metadata": {},
   "source": [
    "# 4. GA code structure"
   ]
  },
  {
   "cell_type": "markdown",
   "metadata": {},
   "source": [
    "```mermaid\n",
    "flowchart TD\n",
    "    Start --> A[Initialize Population]\n",
    "    A --> B[Evaluate Fitness]\n",
    "    B --> C[Selection]\n",
    "    C --> D[Crossover]\n",
    "    D --> E[Mutation]\n",
    "    E --> F[Create New Population]\n",
    "    F --> |Repeat for N Generations| B\n",
    "    F --> G[Final Population]\n",
    "    G --> H[Select Best Chromosome]\n",
    "    H --> End[Optimized Schedule]\n",
    "\n",
    "```"
   ]
  },
  {
   "cell_type": "markdown",
   "metadata": {},
   "source": []
  },
  {
   "cell_type": "markdown",
   "metadata": {},
   "source": []
  }
 ],
 "metadata": {
  "language_info": {
   "name": "python"
  }
 },
 "nbformat": 4,
 "nbformat_minor": 2
}
